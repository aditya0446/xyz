{
 "cells": [
  {
   "cell_type": "code",
   "execution_count": 1,
   "id": "988e9750-ffee-429a-8bc5-eebecd804e9e",
   "metadata": {},
   "outputs": [],
   "source": [
    "l=[2,1,8,5,9]"
   ]
  },
  {
   "cell_type": "code",
   "execution_count": 2,
   "id": "1aefb871-9d01-4f4a-8ac6-f61eb2985a24",
   "metadata": {},
   "outputs": [
    {
     "data": {
      "text/plain": [
       "[2, 1, 8, 5, 9]"
      ]
     },
     "execution_count": 2,
     "metadata": {},
     "output_type": "execute_result"
    }
   ],
   "source": [
    "l"
   ]
  },
  {
   "cell_type": "code",
   "execution_count": null,
   "id": "56dd970e-f2ec-4aca-abc8-cf26b1e7bdd2",
   "metadata": {},
   "outputs": [],
   "source": [
    "type"
   ]
  }
 ],
 "metadata": {
  "kernelspec": {
   "display_name": "Python 3 (ipykernel)",
   "language": "python",
   "name": "python3"
  },
  "language_info": {
   "codemirror_mode": {
    "name": "ipython",
    "version": 3
   },
   "file_extension": ".py",
   "mimetype": "text/x-python",
   "name": "python",
   "nbconvert_exporter": "python",
   "pygments_lexer": "ipython3",
   "version": "3.10.8"
  }
 },
 "nbformat": 4,
 "nbformat_minor": 5
}
