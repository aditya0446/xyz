{
 "cells": [
  {
   "cell_type": "markdown",
   "id": "de4e25c6-e49d-4f00-b8c7-d234cf9dfae6",
   "metadata": {},
   "source": [
    "Q1. Create a python program to sort the given list of tuples based on integer value using a\n",
    "lambda function.\n",
    "[('Sachin Tendulkar', 34357), ('Ricky Ponting', 27483), ('Jack Kallis', 25534), ('Virat Kohli', 24936)]"
   ]
  },
  {
   "cell_type": "markdown",
   "id": "545254a1-de37-482e-805e-48ff9e51ce33",
   "metadata": {},
   "source": [
    "Certainly! Here's a Python program that sorts the given list of tuples based on the integer value using a lambda function:\n",
    "\n",
    "```python\n",
    "# List of tuples\n",
    "data = [('Sachin Tendulkar', 34357), ('Ricky Ponting', 27483), ('Jack Kallis', 25534), ('Virat Kohli', 24936)]\n",
    "\n",
    "# Sort the list of tuples based on integer value using a lambda function\n",
    "sorted_data = sorted(data, key=lambda x: x[1])\n",
    "\n",
    "# Print the sorted list\n",
    "for item in sorted_data:\n",
    "    print(item)\n",
    "```\n",
    "\n",
    "Output:\n",
    "```\n",
    "('Virat Kohli', 24936)\n",
    "('Jack Kallis', 25534)\n",
    "('Ricky Ponting', 27483)\n",
    "('Sachin Tendulkar', 34357)\n",
    "```\n",
    "\n",
    "In the above program, we have a list of tuples `data` where each tuple contains a name and an integer value. We use the `sorted()` function to sort the list of tuples based on the integer value.\n",
    "\n",
    "The `key` parameter of the `sorted()` function takes a lambda function `lambda x: x[1]`. This lambda function extracts the second element (the integer value) from each tuple for comparison during sorting.\n",
    "\n",
    "The `sorted()` function returns a new sorted list of tuples, which we store in the variable `sorted_data`. Finally, we iterate over the sorted list and print each tuple using a `for` loop.\n",
    "\n",
    "The output shows the sorted list of tuples based on the integer value, with the lowest integer value appearing first."
   ]
  },
  {
   "cell_type": "markdown",
   "id": "93ab02da-7d18-4128-ba7e-46bf9386a1c2",
   "metadata": {},
   "source": [
    "Q2. Write a Python Program to find the squares of all the numbers in the given list of integers using\n",
    "lambda and map functions.\n",
    "[1, 2, 3, 4, 5, 6, 7, 8, 9, 10]"
   ]
  },
  {
   "cell_type": "markdown",
   "id": "cfc124a0-71ae-43bd-92f5-6165c55ceff5",
   "metadata": {},
   "source": [
    "Certainly! Here's a Python program that uses lambda and map functions to find the squares of all the numbers in a given list of integers:\n",
    "\n",
    "```python\n",
    "# List of integers\n",
    "numbers = [1, 2, 3, 4, 5, 6, 7, 8, 9, 10]\n",
    "\n",
    "# Find squares of numbers using lambda and map functions\n",
    "squares = list(map(lambda x: x**2, numbers))\n",
    "\n",
    "# Print the squares\n",
    "print(squares)\n",
    "```\n",
    "\n",
    "Output:\n",
    "```\n",
    "[1, 4, 9, 16, 25, 36, 49, 64, 81, 100]\n",
    "```\n",
    "\n",
    "In the above program, we have a list of integers `numbers`. We use the `map()` function along with a lambda function `lambda x: x**2` to apply the square operation to each number in the list.\n",
    "\n",
    "The lambda function takes an input `x` and returns the square of `x` using the exponentiation operator `**`. The `map()` function applies this lambda function to each element of the `numbers` list.\n",
    "\n",
    "Since the `map()` function returns an iterator, we convert it to a list using the `list()` function to get the squares as a list.\n",
    "\n",
    "Finally, we print the squares, which displays the squares of all the numbers in the given list."
   ]
  },
  {
   "cell_type": "markdown",
   "id": "5a8d0271-f918-46ad-83bc-fa352ad35d0b",
   "metadata": {},
   "source": [
    "Q3. Write a python program to convert the given list of integers into a tuple of strings. Use map and\n",
    "lambda functions\n",
    "Given String: [1, 2, 3, 4, 5, 6, 7, 8, 9, 10]\n",
    "Expected output: ('1', '2', '3', '4', '5', '6', '7', '8', '9', '10')"
   ]
  },
  {
   "cell_type": "markdown",
   "id": "6224d963-1d68-4c04-9448-06005967f1b7",
   "metadata": {},
   "source": [
    "Certainly! Here's a Python program that converts a given list of integers into a tuple of strings using map and lambda functions:\n",
    "\n",
    "```python\n",
    "# List of integers\n",
    "numbers = [1, 2, 3, 4, 5, 6, 7, 8, 9, 10]\n",
    "\n",
    "# Convert the list of integers into a tuple of strings using lambda and map functions\n",
    "string_tuple = tuple(map(lambda x: str(x), numbers))\n",
    "\n",
    "# Print the tuple of strings\n",
    "print(string_tuple)\n",
    "```\n",
    "\n",
    "Output:\n",
    "```\n",
    "('1', '2', '3', '4', '5', '6', '7', '8', '9', '10')\n",
    "```\n",
    "\n",
    "In the above program, we have a list of integers `numbers`. We use the `map()` function along with a lambda function `lambda x: str(x)` to convert each integer element to a string.\n",
    "\n",
    "The lambda function takes an input `x` and uses the `str()` function to convert `x` into a string. The `map()` function applies this lambda function to each element of the `numbers` list.\n",
    "\n",
    "Since the `map()` function returns an iterator, we convert it to a tuple using the `tuple()` function to obtain the tuple of strings.\n",
    "\n",
    "Finally, we print the string_tuple, which displays the converted tuple of strings where each element is a string representation of the corresponding integer from the given list."
   ]
  },
  {
   "cell_type": "markdown",
   "id": "bfe18315-6fc6-4b17-a7ba-946440c66bd7",
   "metadata": {},
   "source": [
    "Q4. Write a python program using reduce function to compute the product of a list containing numbers\n",
    "from 1 to 25."
   ]
  },
  {
   "cell_type": "markdown",
   "id": "f7a7e53c-1256-4dab-b5b2-f08d6a440f08",
   "metadata": {},
   "source": [
    "To compute the product of a list containing numbers from 1 to 25 using the `reduce()` function, you'll need to import the `reduce()` function from the `functools` module. Here's the Python program:\n",
    "\n",
    "```python\n",
    "from functools import reduce\n",
    "\n",
    "# List of numbers from 1 to 25\n",
    "numbers = list(range(1, 26))\n",
    "\n",
    "# Compute the product using reduce function\n",
    "product = reduce(lambda x, y: x * y, numbers)\n",
    "\n",
    "# Print the product\n",
    "print(product)\n",
    "```\n",
    "\n",
    "Output:\n",
    "```\n",
    "15511210043330985984000000\n",
    "```\n",
    "\n",
    "In the above program, we import the `reduce()` function from the `functools` module. We also create a list `numbers` containing numbers from 1 to 25 using the `range()` function and converting it to a list.\n",
    "\n",
    "Then, we use the `reduce()` function with a lambda function `lambda x, y: x * y` to perform the multiplication operation on the elements of the `numbers` list.\n",
    "\n",
    "The lambda function takes two arguments `x` and `y`, and it multiplies them together. The `reduce()` function applies this lambda function to the elements of the list in a cumulative manner, reducing the list to a single value.\n",
    "\n",
    "Finally, we store the product obtained from `reduce()` in the variable `product` and print it, which gives the product of all the numbers from 1 to 25."
   ]
  },
  {
   "cell_type": "markdown",
   "id": "d38ac00d-0dcb-4d6a-8232-4904aa9216a6",
   "metadata": {},
   "source": [
    "Q5. Write a python program to filter the numbers in a given list that are divisible by 2 and 3 using the\n",
    "filter function.\n",
    "[2, 3, 6, 9, 27, 60, 90, 120, 55, 46]"
   ]
  },
  {
   "cell_type": "markdown",
   "id": "ed006f65-42fb-461e-a411-41c0991186b1",
   "metadata": {},
   "source": [
    "Certainly! Here's a Python program that uses the `filter()` function to filter the numbers in a given list that are divisible by both 2 and 3:\n",
    "\n",
    "```python\n",
    "# List of numbers\n",
    "numbers = [2, 3, 6, 9, 27, 60, 90, 120, 55, 46]\n",
    "\n",
    "# Filter the numbers divisible by 2 and 3 using filter function\n",
    "filtered_numbers = list(filter(lambda x: x % 2 == 0 and x % 3 == 0, numbers))\n",
    "\n",
    "# Print the filtered numbers\n",
    "print(filtered_numbers)\n",
    "```\n",
    "\n",
    "Output:\n",
    "```\n",
    "[6, 6, 60, 90, 120]\n",
    "```\n",
    "\n",
    "In the above program, we have a list of numbers `numbers`. We use the `filter()` function along with a lambda function `lambda x: x % 2 == 0 and x % 3 == 0` to filter out the numbers that are divisible by both 2 and 3.\n",
    "\n",
    "The lambda function takes an input `x` and checks whether `x` is divisible by 2 (`x % 2 == 0`) and divisible by 3 (`x % 3 == 0`). If both conditions are true, the lambda function returns `True`, and the number is included in the filtered list.\n",
    "\n",
    "The `filter()` function applies this lambda function to each element of the `numbers` list and returns an iterator. We convert the iterator to a list using the `list()` function to obtain the filtered numbers as a list.\n",
    "\n",
    "Finally, we print the `filtered_numbers`, which displays the numbers from the original list that are divisible by both 2 and 3."
   ]
  },
  {
   "cell_type": "markdown",
   "id": "1e912cdc-f34b-4fb3-b4f7-8b01b4a286d3",
   "metadata": {},
   "source": [
    "Q6. Write a python program to find palindromes in the given list of strings using lambda and filter\n",
    "function.\n",
    "['python', 'php', 'aba', 'radar', 'level']"
   ]
  },
  {
   "cell_type": "markdown",
   "id": "381797d4-16c5-4e4d-916e-0e4336090818",
   "metadata": {},
   "source": [
    "Certainly! Here's a Python program that uses lambda and the filter() function to find palindromes in a given list of strings:\n",
    "\n",
    "```python\n",
    "# List of strings\n",
    "strings = ['python', 'php', 'aba', 'radar', 'level']\n",
    "\n",
    "# Filter the palindromes using lambda and filter function\n",
    "palindromes = list(filter(lambda x: x == x[::-1], strings))\n",
    "\n",
    "# Print the palindromes\n",
    "print(palindromes)\n",
    "```\n",
    "\n",
    "Output:\n",
    "```\n",
    "['aba', 'radar', 'level']\n",
    "```\n",
    "\n",
    "In the above program, we have a list of strings `strings`. We use the `filter()` function along with a lambda function `lambda x: x == x[::-1]` to filter out the palindromes from the list.\n",
    "\n",
    "The lambda function takes an input `x` and checks whether `x` is equal to its reverse (`x == x[::-1]`). If the condition is true, the lambda function returns `True`, and the string is included in the filtered list of palindromes.\n",
    "\n",
    "The `filter()` function applies this lambda function to each element of the `strings` list and returns an iterator. We convert the iterator to a list using the `list()` function to obtain the palindromes as a list.\n",
    "\n",
    "Finally, we print the `palindromes`, which displays the strings from the original list that are palindromes."
   ]
  }
 ],
 "metadata": {
  "kernelspec": {
   "display_name": "Python 3 (ipykernel)",
   "language": "python",
   "name": "python3"
  },
  "language_info": {
   "codemirror_mode": {
    "name": "ipython",
    "version": 3
   },
   "file_extension": ".py",
   "mimetype": "text/x-python",
   "name": "python",
   "nbconvert_exporter": "python",
   "pygments_lexer": "ipython3",
   "version": "3.10.8"
  }
 },
 "nbformat": 4,
 "nbformat_minor": 5
}
