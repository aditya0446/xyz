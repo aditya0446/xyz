{
 "cells": [
  {
   "cell_type": "markdown",
   "id": "44eb0acf-f494-4e78-bb95-67ddd6076f3e",
   "metadata": {},
   "source": [
    "Q1. Create one variable containing following type of data:\n",
    "(i) string\n",
    "(ii) list\n",
    "(iii) float\n",
    "(iv) tuple"
   ]
  },
  {
   "cell_type": "code",
   "execution_count": 1,
   "id": "37aebd67-1812-427c-9856-494186e349d3",
   "metadata": {},
   "outputs": [],
   "source": [
    "# (i) String\n",
    "my_string = \"Hello, world!\"\n",
    "\n",
    "# (ii) List\n",
    "my_list = [1, 2, 3, 4, 5]\n",
    "\n",
    "# (iii) Float\n",
    "my_float = 3.14\n",
    "\n",
    "# (iv) Tuple\n",
    "my_tuple = (10, 20, 30, 40, 50)\n"
   ]
  },
  {
   "cell_type": "code",
   "execution_count": 5,
   "id": "9bfbc18e-b906-4966-b44e-b56f3f53770e",
   "metadata": {},
   "outputs": [
    {
     "name": "stdout",
     "output_type": "stream",
     "text": [
      "Hello, world!\n",
      "[1, 2, 3, 4, 5]\n",
      "3.14\n",
      "(10, 20, 30, 40, 50)\n"
     ]
    }
   ],
   "source": [
    "print(my_string)\n",
    "print(my_list)\n",
    "print(my_float)\n",
    "print(my_tuple)"
   ]
  },
  {
   "cell_type": "markdown",
   "id": "c6c5328e-8eda-4cfd-b146-30c8b977966c",
   "metadata": {},
   "source": [
    "Q2. Given are some following variables containing data:\n",
    "(i) var1 = ‘ ‘\n",
    "(ii) var2 = ‘[ DS , ML , Python]’\n",
    "(iii) var3 = [ ‘DS’ , ’ML’ , ‘Python’ ]\n",
    "(iv) var4 = 1.\n",
    "What will be the data type of the above given variable."
   ]
  },
  {
   "cell_type": "markdown",
   "id": "6c87d516-7e53-4f39-baf1-a5b84b34369d",
   "metadata": {},
   "source": [
    "The data types of the given variables are as follows:\n",
    "\n",
    "(i) `var1` is a string because it is enclosed in single quotes, indicating a string literal. The content of the string is an empty space.\n",
    "\n",
    "(ii) `var2` is also a string because it is enclosed in single quotes. The content of the string is '[ DS , ML , Python]'.\n",
    "\n",
    "(iii) `var3` is a list because it is enclosed in square brackets []. The elements inside the list are strings: 'DS', 'ML', and 'Python'.\n",
    "\n",
    "(iv) `var4` is a float because it contains a decimal point. The value of `var4` is 1.0, indicating a floating-point number.\n",
    "\n",
    "To summarize:\n",
    "- `var1` is a string.\n",
    "- `var2` is a string.\n",
    "- `var3` is a list.\n",
    "- `var4` is a float."
   ]
  },
  {
   "cell_type": "markdown",
   "id": "4359966a-be08-41c9-b772-5a553bd17d68",
   "metadata": {},
   "source": [
    "Q3. Explain the use of the following operators using an example:\n",
    "(i) /\n",
    "(ii) %\n",
    "(iii) //\n",
    "(iv) **"
   ]
  },
  {
   "cell_type": "markdown",
   "id": "92de99a0-9229-4afc-b45f-deb113e524c5",
   "metadata": {},
   "source": [
    "Sure! Here's an explanation of the operators you mentioned along with examples:\n",
    "\n",
    "(i) `/` (Division Operator):\n",
    "The division operator `/` is used to perform division between two numbers and returns the quotient as a float. It performs normal division and includes the decimal portion of the result.\n",
    "\n",
    "Example:\n",
    "```python\n",
    "a = 10\n",
    "b = 3\n",
    "result = a / b\n",
    "print(result)\n",
    "```\n",
    "Output:\n",
    "```\n",
    "3.3333333333333335\n",
    "```\n",
    "In the example, the division operation `a / b` returns the result as a float, which is approximately 3.3333333333333335.\n",
    "\n",
    "(ii) `%` (Modulo Operator):\n",
    "The modulo operator `%` is used to find the remainder after division of one number by another. It returns the remainder as the result.\n",
    "\n",
    "Example:\n",
    "```python\n",
    "a = 10\n",
    "b = 3\n",
    "result = a % b\n",
    "print(result)\n",
    "```\n",
    "Output:\n",
    "```\n",
    "1\n",
    "```\n",
    "In the example, the modulo operation `a % b` returns the remainder 1 after dividing 10 by 3.\n",
    "\n",
    "(iii) `//` (Floor Division Operator):\n",
    "The floor division operator `//` is used to perform division between two numbers and returns the quotient as an integer. It performs division and rounds down the result to the nearest whole number.\n",
    "\n",
    "Example:\n",
    "```python\n",
    "a = 10\n",
    "b = 3\n",
    "result = a // b\n",
    "print(result)\n",
    "```\n",
    "Output:\n",
    "```\n",
    "3\n",
    "```\n",
    "In the example, the floor division operation `a // b` returns the quotient 3 after dividing 10 by 3 and rounding down the result.\n",
    "\n",
    "(iv) `**` (Exponentiation Operator):\n",
    "The exponentiation operator `**` is used to raise a number to a power.\n",
    "\n",
    "Example:\n",
    "```python\n",
    "a = 2\n",
    "b = 3\n",
    "result = a ** b\n",
    "print(result)\n",
    "```\n",
    "Output:\n",
    "```\n",
    "8\n",
    "```\n",
    "In the example, the exponentiation operation `a ** b` raises 2 to the power of 3, resulting in 8.\n",
    "\n",
    "These operators are commonly used in mathematical calculations and can be useful in various programming scenarios."
   ]
  },
  {
   "cell_type": "markdown",
   "id": "161c3425-2cba-4878-8bab-5800569f0d9b",
   "metadata": {},
   "source": [
    "Q4. Create a list of length 10 of your choice containing multiple types of data. Using for loop print the\n",
    "element and its data type."
   ]
  },
  {
   "cell_type": "code",
   "execution_count": 6,
   "id": "53090f5f-74b9-4eda-9ed2-dd98b59fabaa",
   "metadata": {},
   "outputs": [
    {
     "name": "stdout",
     "output_type": "stream",
     "text": [
      "Element: 1, Data Type: <class 'int'>\n",
      "Element: Hello, Data Type: <class 'str'>\n",
      "Element: 3.14, Data Type: <class 'float'>\n",
      "Element: True, Data Type: <class 'bool'>\n",
      "Element: [1, 2, 3], Data Type: <class 'list'>\n",
      "Element: {'name': 'John', 'age': 25}, Data Type: <class 'dict'>\n",
      "Element: (4, 5, 6), Data Type: <class 'tuple'>\n",
      "Element: None, Data Type: <class 'NoneType'>\n",
      "Element: OpenAI, Data Type: <class 'str'>\n",
      "Element: False, Data Type: <class 'bool'>\n"
     ]
    }
   ],
   "source": [
    "my_list = [1, 'Hello', 3.14, True, [1, 2, 3], {'name': 'John', 'age': 25}, (4, 5, 6), None, 'OpenAI', False]\n",
    "\n",
    "for element in my_list:\n",
    "    print(f\"Element: {element}, Data Type: {type(element)}\")\n"
   ]
  },
  {
   "cell_type": "markdown",
   "id": "dc44998e-f726-4680-9ff7-e285eafee299",
   "metadata": {},
   "source": [
    "Q5. Using a while loop, verify if the number A is purely divisible by number B and if so then how many\n",
    "times it can be divisible."
   ]
  },
  {
   "cell_type": "code",
   "execution_count": 7,
   "id": "ec5fb156-c1c6-4f06-83c3-f26507582dd4",
   "metadata": {},
   "outputs": [
    {
     "name": "stdout",
     "output_type": "stream",
     "text": [
      "A can be divided by B 2 times.\n"
     ]
    }
   ],
   "source": [
    "A = 100\n",
    "B = 5\n",
    "count = 0\n",
    "\n",
    "while A % B == 0:\n",
    "    A = A // B\n",
    "    count += 1\n",
    "\n",
    "print(f\"A can be divided by B {count} times.\")\n"
   ]
  },
  {
   "cell_type": "markdown",
   "id": "ba956ffd-7924-4563-b71a-364e536ee33d",
   "metadata": {},
   "source": [
    "Q6. Create a list containing 25 int type data. Using for loop and if-else condition print if the element is\n",
    "divisible by 3 or not."
   ]
  },
  {
   "cell_type": "code",
   "execution_count": 1,
   "id": "48675a72-1ccb-441e-baf1-4d7b17f64843",
   "metadata": {},
   "outputs": [
    {
     "name": "stdout",
     "output_type": "stream",
     "text": [
      "12 is divisible by 3.\n",
      "7 is not divisible by 3.\n",
      "18 is divisible by 3.\n",
      "9 is divisible by 3.\n",
      "15 is divisible by 3.\n",
      "6 is divisible by 3.\n",
      "21 is divisible by 3.\n",
      "8 is not divisible by 3.\n",
      "27 is divisible by 3.\n",
      "30 is divisible by 3.\n",
      "17 is not divisible by 3.\n",
      "22 is not divisible by 3.\n",
      "10 is not divisible by 3.\n",
      "36 is divisible by 3.\n",
      "13 is not divisible by 3.\n",
      "25 is not divisible by 3.\n",
      "33 is divisible by 3.\n",
      "14 is not divisible by 3.\n",
      "19 is not divisible by 3.\n",
      "24 is divisible by 3.\n",
      "16 is not divisible by 3.\n",
      "20 is not divisible by 3.\n",
      "31 is not divisible by 3.\n",
      "11 is not divisible by 3.\n",
      "28 is not divisible by 3.\n"
     ]
    }
   ],
   "source": [
    "my_list = [12, 7, 18, 9, 15, 6, 21, 8, 27, 30, 17, 22, 10, 36, 13, 25, 33, 14, 19, 24, 16, 20, 31, 11, 28]\n",
    "\n",
    "for element in my_list:\n",
    "    if element % 3 == 0:\n",
    "        print(f\"{element} is divisible by 3.\")\n",
    "    else:\n",
    "        print(f\"{element} is not divisible by 3.\")\n"
   ]
  },
  {
   "cell_type": "markdown",
   "id": "9bff0c3a-f168-4a97-b61b-e295a907f6d9",
   "metadata": {},
   "source": [
    "Q7. What do you understand about mutable and immutable data types? Give examples for both showing\n",
    "this property."
   ]
  },
  {
   "cell_type": "markdown",
   "id": "28929366-cead-41d1-a356-d59ac40f9096",
   "metadata": {},
   "source": [
    "In Python, mutable and immutable are two fundamental concepts related to data types.\n",
    "\n",
    "Immutable data types:\n",
    "Immutable data types are those whose values cannot be changed after they are created. If any operation is performed on an immutable object, a new object is created with the updated value. Immutable objects are hashable and can be used as dictionary keys or elements of a set.\n",
    "\n",
    "Examples of immutable data types in Python are:\n",
    "- Numbers (int, float, complex)\n",
    "- Strings (str)\n",
    "- Tuples (tuple)\n",
    "\n",
    "Here's an example to demonstrate the immutability of a string:\n",
    "```python\n",
    "str1 = \"Hello\"\n",
    "print(str1)  # Output: Hello\n",
    "\n",
    "str1 += \" World\"\n",
    "print(str1)  # Output: Hello World\n",
    "```\n",
    "In the example, when we concatenate \" World\" to `str1`, a new string object is created with the updated value. The original string `\"Hello\"` remains unchanged.\n",
    "\n",
    "Mutable data types:\n",
    "Mutable data types are those whose values can be modified after they are created. Operations performed on mutable objects can modify the object in-place without creating a new object.\n",
    "\n",
    "Examples of mutable data types in Python are:\n",
    "- Lists (list)\n",
    "- Sets (set)\n",
    "- Dictionaries (dict)\n",
    "\n",
    "Here's an example to demonstrate the mutability of a list:\n",
    "```python\n",
    "list1 = [1, 2, 3]\n",
    "print(list1)  # Output: [1, 2, 3]\n",
    "\n",
    "list1.append(4)\n",
    "print(list1)  # Output: [1, 2, 3, 4]\n",
    "```\n",
    "In the example, when we use the `append()` method to add the element 4 to `list1`, the original list is modified in-place, and the element is added to the existing list.\n",
    "\n",
    "To summarize, immutable data types cannot be modified once created, and any operation on them results in a new object. On the other hand, mutable data types can be modified in-place, and operations directly modify the existing object without creating a new one."
   ]
  },
  {
   "cell_type": "code",
   "execution_count": null,
   "id": "ceb077fe-f8ff-40ff-81e7-82d31954040c",
   "metadata": {},
   "outputs": [],
   "source": []
  }
 ],
 "metadata": {
  "kernelspec": {
   "display_name": "Python 3 (ipykernel)",
   "language": "python",
   "name": "python3"
  },
  "language_info": {
   "codemirror_mode": {
    "name": "ipython",
    "version": 3
   },
   "file_extension": ".py",
   "mimetype": "text/x-python",
   "name": "python",
   "nbconvert_exporter": "python",
   "pygments_lexer": "ipython3",
   "version": "3.10.8"
  }
 },
 "nbformat": 4,
 "nbformat_minor": 5
}
